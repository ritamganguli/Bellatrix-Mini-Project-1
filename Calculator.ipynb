{
 "cells": [
  {
   "cell_type": "code",
   "execution_count": null,
   "metadata": {},
   "outputs": [],
   "source": []
  },
  {
   "cell_type": "code",
   "execution_count": null,
   "metadata": {},
   "outputs": [],
   "source": []
  },
  {
   "cell_type": "code",
   "execution_count": 6,
   "metadata": {},
   "outputs": [
    {
     "name": "stdout",
     "output_type": "stream",
     "text": [
      "Enter the 1st number2\n",
      "Enter the 2nd number2\n",
      "Addition of 2 and 2 is :  4\n",
      "Enter the 1st number2\n",
      "Enter the 2nd number2\n",
      "Subtraction of 2 and 2 is :  0\n",
      "Enter the 1st number2\n",
      "Enter the 2nd number2\n",
      "Multiplication of 2 and 2 is :  4\n",
      "Enter the 1st number2\n",
      "Enter the 2nd number2\n",
      "Division of 2 and 2 is :  1.0\n",
      "Enter the 1st number2\n",
      "Enter the 2nd number2\n",
      "Modulation of 2 and 2 is :  0\n",
      "Enter the number that you have scored30\n",
      "Enter the Total numbers40\n",
      "Persentage of that you have scored is :  75.0\n"
     ]
    }
   ],
   "source": [
    "#Calculator\n",
    "#Bellatrix Mini Project 1\n",
    "class Add():\n",
    "    def add(self):\n",
    "        a=int(input('Enter the 1st number'))\n",
    "        b=int(input('Enter the 2nd number'))\n",
    "        c=a+b\n",
    "        print(\"Addition of {} and {} is : \".format(a,b),c)\n",
    "class Sub():\n",
    "    def sub(self):\n",
    "        a=int(input('Enter the 1st number'))\n",
    "        b=int(input('Enter the 2nd number'))\n",
    "        c=a-b\n",
    "        print(\"Subtraction of {} and {} is : \".format(a,b),c)\n",
    "class Mul():\n",
    "    def mul(self):\n",
    "        a=int(input('Enter the 1st number'))\n",
    "        b=int(input('Enter the 2nd number'))\n",
    "        c=a*b\n",
    "        print(\"Multiplication of {} and {} is : \".format(a,b),c)\n",
    "class Mod():\n",
    "    def mod(self):\n",
    "        a=int(input('Enter the 1st number'))\n",
    "        b=int(input('Enter the 2nd number'))\n",
    "        c=a%b\n",
    "        print(\"Modulation of {} and {} is : \".format(a,b),c)\n",
    "class Per():\n",
    "    def per(self):\n",
    "        a=int(input('Enter the number that you have scored'))\n",
    "        b=int(input('Enter the Total numbers'))\n",
    "        c=(a/b)*100\n",
    "        print(\"Persentage of that you have scored is : \".format(a,b),c)\n",
    "class Div(Add,Sub,Mul,Mod,Per):\n",
    "    def div(self):\n",
    "        a=int(input('Enter the 1st number'))\n",
    "        b=int(input('Enter the 2nd number'))\n",
    "        c=a/b\n",
    "        print(\"Division of {} and {} is : \".format(a,b),c)\n",
    "a=Div()\n",
    "a.add()\n",
    "a.sub()\n",
    "a.mul()\n",
    "a.div()\n",
    "a.mod()\n",
    "a.per()"
   ]
  },
  {
   "cell_type": "code",
   "execution_count": null,
   "metadata": {},
   "outputs": [],
   "source": []
  }
 ],
 "metadata": {
  "kernelspec": {
   "display_name": "Python 3",
   "language": "python",
   "name": "python3"
  },
  "language_info": {
   "codemirror_mode": {
    "name": "ipython",
    "version": 3
   },
   "file_extension": ".py",
   "mimetype": "text/x-python",
   "name": "python",
   "nbconvert_exporter": "python",
   "pygments_lexer": "ipython3",
   "version": "3.7.3"
  }
 },
 "nbformat": 4,
 "nbformat_minor": 2
}
